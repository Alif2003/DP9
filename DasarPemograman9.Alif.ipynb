{
 "cells": [
  {
   "cell_type": "code",
   "execution_count": 1,
   "id": "9bb3063c",
   "metadata": {},
   "outputs": [
    {
     "name": "stdout",
     "output_type": "stream",
     "text": [
      "array('i', [10, 20, 30, 40, 90, 80])\n"
     ]
    }
   ],
   "source": [
    "#import library array sebagai alias\n",
    "\n",
    "import array as arr\n",
    "arr_int = arr.array('i',[10,20,30,40,90,80])\n",
    "\n",
    "print(arr_int)"
   ]
  },
  {
   "cell_type": "code",
   "execution_count": 2,
   "id": "19a41f4c",
   "metadata": {},
   "outputs": [
    {
     "name": "stdout",
     "output_type": "stream",
     "text": [
      "elemen array terakhir: 80\n",
      "10\n",
      "20\n",
      "30\n",
      "40\n",
      "90\n",
      "80\n",
      "--------------------------------\n",
      "10\n",
      "30\n",
      "60\n",
      "100\n",
      "190\n",
      "270\n",
      "nilai rata-rata: 45.0\n"
     ]
    }
   ],
   "source": [
    "pjg_array = len(arr_int)\n",
    "print(\"elemen array terakhir:\",arr_int[pjg_array-1])\n",
    "\n",
    "#Looping mengakses nilai elemen tanpa mengetahui indeks\n",
    "for i in arr_int:\n",
    "    print(i)\n",
    "print('--------------------------------')  \n",
    "#looping mengakses nilai elemen dengan paramter indeks\n",
    "total = 0\n",
    "for j in range(pjg_array):\n",
    "    total = total + arr_int[j]\n",
    "    print(total)\n",
    "rata2 = total / pjg_array\n",
    "print(f\"nilai rata-rata: {rata2}\")"
   ]
  },
  {
   "cell_type": "code",
   "execution_count": 3,
   "id": "b7c8cc47",
   "metadata": {},
   "outputs": [
    {
     "name": "stdout",
     "output_type": "stream",
     "text": [
      "array('i', [10, 20, 30, 66, 40, 90, 80])\n"
     ]
    }
   ],
   "source": [
    "posisi = 3\n",
    "nilai = 66\n",
    "arr_int.insert(posisi,nilai)\n",
    "print(arr_int)"
   ]
  },
  {
   "cell_type": "code",
   "execution_count": 5,
   "id": "b552ef3b",
   "metadata": {},
   "outputs": [
    {
     "name": "stdout",
     "output_type": "stream",
     "text": [
      "array('i', [80, 20, 30, 66, 66, 40, 90, 80])\n"
     ]
    }
   ],
   "source": [
    "arr_int[0] = 80\n",
    "print(arr_int)"
   ]
  },
  {
   "cell_type": "code",
   "execution_count": 6,
   "id": "d0d58889",
   "metadata": {},
   "outputs": [
    {
     "name": "stdout",
     "output_type": "stream",
     "text": [
      "array('i', [20, 30, 66, 66, 40, 90, 80])\n",
      "array('i', [20, 30, 66, 66, 40, 90])\n"
     ]
    }
   ],
   "source": [
    "arr_int.remove(80)\n",
    "print(arr_int)\n",
    "\n",
    "arr_int.pop()\n",
    "print(arr_int)"
   ]
  },
  {
   "cell_type": "code",
   "execution_count": 7,
   "id": "6a57091b",
   "metadata": {},
   "outputs": [
    {
     "data": {
      "text/plain": [
       "1"
      ]
     },
     "execution_count": 7,
     "metadata": {},
     "output_type": "execute_result"
    }
   ],
   "source": [
    "arr_int.index(30)"
   ]
  },
  {
   "cell_type": "code",
   "execution_count": 8,
   "id": "18aa49cf",
   "metadata": {},
   "outputs": [
    {
     "name": "stdout",
     "output_type": "stream",
     "text": [
      "array('u', 'XOXOXXOXOX')\n"
     ]
    }
   ],
   "source": [
    "#import library array\n",
    "\n",
    "#kamar=arr.array('u',[])\n",
    "#print(kamar)\n",
    "\n",
    "#kamar=arr.array('u',[])\n",
    "#for i in range(10):\n",
    "#  if i+1==2 or i+1==4 or i+1==7 or i+1==9:\n",
    "#    kamar.insert(i-1,'O')\n",
    "#  else:\n",
    "#    kamar.insert(i+1,'X')\n",
    "#print(kamar)\n",
    "\n",
    "import array as arr\n",
    "\n",
    "kamar = arr.array('u', [])\n",
    "jumlah_kamar = 10;\n",
    "\n",
    "for i in range(1, jumlah_kamar + 1):\n",
    "    if i == 2 or i == 4 or i == 7 or i == 9:\n",
    "        kamar.insert(i, 'O')\n",
    "    else:\n",
    "        kamar.insert(i, \"X\")\n",
    "        \n",
    "print(kamar)"
   ]
  },
  {
   "cell_type": "code",
   "execution_count": 9,
   "id": "f644ff8b",
   "metadata": {},
   "outputs": [
    {
     "name": "stdout",
     "output_type": "stream",
     "text": [
      "kamar no. 1 kosong\n",
      "kamar no. 3 kosong\n",
      "kamar no. 5 kosong\n",
      "kamar no. 6 kosong\n",
      "kamar no. 8 kosong\n",
      "kamar no. 10 kosong\n",
      "jumlah kamar kosong:  6\n"
     ]
    }
   ],
   "source": [
    "#Your Code here\n",
    "\n",
    "#for i in kamar:\n",
    "  \n",
    "#  nomor_yang_kosong=\"\"\n",
    "#  jumlah=0\n",
    "#  for i in kamar:\n",
    "#    nomor -+=1\n",
    "#    if i==2 or i==2 or i==7 or i==9:\n",
    "#      kamar.insert(i-1,'O')\n",
    "#    else:\n",
    "#      kamar.insert(i-1,'X')\n",
    "# print(kamar)\n",
    "\n",
    "kamar_kosong = 0\n",
    "\n",
    "for k in range(len(kamar)):\n",
    "    if kamar[k] == 'X':\n",
    "        kamar_kosong += 1\n",
    "        print(f\"kamar no. {k + 1} kosong\")\n",
    "        \n",
    "print(\"jumlah kamar kosong: \", kamar_kosong)"
   ]
  },
  {
   "cell_type": "code",
   "execution_count": 10,
   "id": "a031c518",
   "metadata": {},
   "outputs": [
    {
     "name": "stdout",
     "output_type": "stream",
     "text": [
      "array('u')\n"
     ]
    }
   ],
   "source": [
    "#Your code here\n",
    "\n",
    "for i in range(len(kamar)):\n",
    "    kamar.pop()\n",
    "\n",
    "print(kamar)"
   ]
  },
  {
   "cell_type": "code",
   "execution_count": 11,
   "id": "41aa03e9",
   "metadata": {},
   "outputs": [
    {
     "name": "stdout",
     "output_type": "stream",
     "text": [
      "\n",
      "Masukan jumlah uang kamu: 100000\n",
      "Masukan jumlah tahu yang ingin dibeli: 55\n",
      "\n",
      "Total harga yang dibeli:  55000\n",
      "Uang Kembali:  45000\n",
      "Sisa Tahu:  45\n",
      "Posisi akhir rak:  [0, 0, 0, 0, 0, 5, 10, 10, 10, 10]\n",
      "\n",
      "Beli lagi? ya/tidak: ya\n",
      "\n",
      "Masukan jumlah uang kamu: 100000\n",
      "Masukan jumlah tahu yang ingin dibeli: 45\n",
      "\n",
      "Total harga yang dibeli:  45000\n",
      "Uang Kembali:  55000\n",
      "Sisa Tahu:  0\n",
      "Posisi akhir rak:  [0, 0, 0, 0, 0, 0, 0, 0, 0, 0]\n"
     ]
    }
   ],
   "source": [
    "import array as arr\n",
    "\n",
    "# membuat array yang berisikan jumlah tahu pada setiap rak\n",
    "meja_tahu = arr.array('i', [10,10,10,10,10,10,10,10,10,10])\n",
    "harga_tahu = 1_000\n",
    "\n",
    "# menghitung total tahu\n",
    "def totalTahu():\n",
    "    jumlah_tahu = 0\n",
    "    for rak_tahu in meja_tahu:\n",
    "        jumlah_tahu += rak_tahu\n",
    "        \n",
    "    return jumlah_tahu\n",
    "\n",
    "# function untuk membeli tahu\n",
    "# return total harga pembelian tahu\n",
    "def beliTahu(jumlah_beli_tahu, jumlah_uang):\n",
    "    total_tahu = totalTahu()\n",
    "    \n",
    "    # kalau total tahu yang dibeli melebihi stok, gagalkan pembelian\n",
    "    if jumlah_beli_tahu > total_tahu:\n",
    "        print(\"\\n--Tahu kami tidak cukup--\")\n",
    "        return 0\n",
    "    \n",
    "    # kalau uang pembeli kurang, gagalkan pembelian\n",
    "    harga_total_tahu = jumlah_beli_tahu * harga_tahu\n",
    "    if (jumlah_uang < harga_total_tahu):\n",
    "        print(\"\\n--Uang kamu tidak cukup--\")\n",
    "        return 0\n",
    "    \n",
    "    # mengurangi tahu pada rak\n",
    "    for index_rak in range(len(meja_tahu)):\n",
    "        # loop berhenti jika rak sudah dikurangi habis dengan jumlah beli\n",
    "        if jumlah_beli_tahu == 0:\n",
    "            break\n",
    "        \n",
    "        # kalau jumlah beli melebihi jumlah tahu pada rak\n",
    "        # habiskan tahu pada rak tersebut\n",
    "        # tapi jika tidak, kurangi tahu pada rak tersebut sesuai dengan jumlah beli\n",
    "        if meja_tahu[index_rak] - jumlah_beli_tahu < 0:\n",
    "            jumlah_beli_tahu -= meja_tahu[index_rak]\n",
    "            meja_tahu[index_rak] = 0\n",
    "        else:\n",
    "            meja_tahu[index_rak] -= jumlah_beli_tahu\n",
    "            jumlah_beli_tahu = 0\n",
    "            \n",
    "    # return harga total pembelian tahu\n",
    "    return harga_total_tahu\n",
    "        \n",
    "# loop program hingga tahu habis\n",
    "total_sisa_tahu = totalTahu()\n",
    "while (total_sisa_tahu > 0):\n",
    "    jumlah_uang = int(input(\"\\nMasukan jumlah uang kamu: \"))\n",
    "    jumlah_beli_tahu = int(input(\"Masukan jumlah tahu yang ingin dibeli: \"))\n",
    "    \n",
    "    total_harga_pembelian = beliTahu(jumlah_beli_tahu, jumlah_uang)\n",
    "    total_kembalian = jumlah_uang - total_harga_pembelian\n",
    "    total_sisa_tahu = totalTahu()\n",
    "    \n",
    "    print(\"\\nTotal harga yang dibeli: \", total_harga_pembelian)\n",
    "    print(\"Uang Kembali: \", total_kembalian)\n",
    "    print(\"Sisa Tahu: \", total_sisa_tahu)\n",
    "    print(\"Posisi akhir rak: \", list(meja_tahu))\n",
    "    \n",
    "    # berikan opsi pada user apakah ingin membeli lagi (jika masih ada stok tahu)\n",
    "    # jika tidak, program berhenti\n",
    "    if (total_sisa_tahu <= 0 or input(\"\\nBeli lagi? ya/tidak: \") != 'ya'):\n",
    "        break"
   ]
  },
  {
   "cell_type": "code",
   "execution_count": null,
   "id": "b8e0d8b9",
   "metadata": {},
   "outputs": [],
   "source": []
  }
 ],
 "metadata": {
  "kernelspec": {
   "display_name": "Python 3 (ipykernel)",
   "language": "python",
   "name": "python3"
  },
  "language_info": {
   "codemirror_mode": {
    "name": "ipython",
    "version": 3
   },
   "file_extension": ".py",
   "mimetype": "text/x-python",
   "name": "python",
   "nbconvert_exporter": "python",
   "pygments_lexer": "ipython3",
   "version": "3.9.12"
  }
 },
 "nbformat": 4,
 "nbformat_minor": 5
}
